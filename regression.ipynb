{
 "cells": [
  {
   "cell_type": "code",
   "execution_count": 67,
   "id": "17a89cfa",
   "metadata": {},
   "outputs": [],
   "source": [
    "import pandas as pd\n",
    "import numpy as np\n",
    "from sklearn.linear_model import LinearRegression\n",
    "from sklearn import preprocessing\n",
    "import matplotlib.pyplot as plt\n",
    "from sklearn.preprocessing import MinMaxScaler\n",
    "from sklearn.model_selection import train_test_split\n",
    "from sklearn.metrics import accuracy_score, precision_score, f1_score, recall_score\n",
    "\n",
    "import seaborn as sns\n",
    "import matplotlib.pyplot as plt"
   ]
  },
  {
   "cell_type": "code",
   "execution_count": 43,
   "id": "360c8594",
   "metadata": {},
   "outputs": [
    {
     "data": {
      "text/html": [
       "<div>\n",
       "<style scoped>\n",
       "    .dataframe tbody tr th:only-of-type {\n",
       "        vertical-align: middle;\n",
       "    }\n",
       "\n",
       "    .dataframe tbody tr th {\n",
       "        vertical-align: top;\n",
       "    }\n",
       "\n",
       "    .dataframe thead th {\n",
       "        text-align: right;\n",
       "    }\n",
       "</style>\n",
       "<table border=\"1\" class=\"dataframe\">\n",
       "  <thead>\n",
       "    <tr style=\"text-align: right;\">\n",
       "      <th></th>\n",
       "      <th>distance</th>\n",
       "      <th>consume</th>\n",
       "      <th>speed</th>\n",
       "      <th>temp_inside</th>\n",
       "      <th>temp_outside</th>\n",
       "      <th>gas_type</th>\n",
       "      <th>AC</th>\n",
       "      <th>rain</th>\n",
       "      <th>sun</th>\n",
       "    </tr>\n",
       "  </thead>\n",
       "  <tbody>\n",
       "    <tr>\n",
       "      <th>0</th>\n",
       "      <td>28.0</td>\n",
       "      <td>5.0</td>\n",
       "      <td>26.0</td>\n",
       "      <td>21,5</td>\n",
       "      <td>12</td>\n",
       "      <td>E10</td>\n",
       "      <td>0</td>\n",
       "      <td>0</td>\n",
       "      <td>0</td>\n",
       "    </tr>\n",
       "    <tr>\n",
       "      <th>1</th>\n",
       "      <td>12.0</td>\n",
       "      <td>4.2</td>\n",
       "      <td>30.0</td>\n",
       "      <td>21,5</td>\n",
       "      <td>13</td>\n",
       "      <td>E10</td>\n",
       "      <td>0</td>\n",
       "      <td>0</td>\n",
       "      <td>0</td>\n",
       "    </tr>\n",
       "    <tr>\n",
       "      <th>2</th>\n",
       "      <td>11.2</td>\n",
       "      <td>5.5</td>\n",
       "      <td>38.0</td>\n",
       "      <td>21,5</td>\n",
       "      <td>15</td>\n",
       "      <td>E10</td>\n",
       "      <td>0</td>\n",
       "      <td>0</td>\n",
       "      <td>0</td>\n",
       "    </tr>\n",
       "    <tr>\n",
       "      <th>3</th>\n",
       "      <td>12.9</td>\n",
       "      <td>3.9</td>\n",
       "      <td>36.0</td>\n",
       "      <td>21,5</td>\n",
       "      <td>14</td>\n",
       "      <td>E10</td>\n",
       "      <td>0</td>\n",
       "      <td>0</td>\n",
       "      <td>0</td>\n",
       "    </tr>\n",
       "    <tr>\n",
       "      <th>4</th>\n",
       "      <td>18.5</td>\n",
       "      <td>4.5</td>\n",
       "      <td>46.0</td>\n",
       "      <td>21,5</td>\n",
       "      <td>15</td>\n",
       "      <td>E10</td>\n",
       "      <td>0</td>\n",
       "      <td>0</td>\n",
       "      <td>0</td>\n",
       "    </tr>\n",
       "  </tbody>\n",
       "</table>\n",
       "</div>"
      ],
      "text/plain": [
       "   distance  consume  speed temp_inside  temp_outside gas_type  AC  rain  sun\n",
       "0      28.0      5.0   26.0        21,5            12      E10   0     0    0\n",
       "1      12.0      4.2   30.0        21,5            13      E10   0     0    0\n",
       "2      11.2      5.5   38.0        21,5            15      E10   0     0    0\n",
       "3      12.9      3.9   36.0        21,5            14      E10   0     0    0\n",
       "4      18.5      4.5   46.0        21,5            15      E10   0     0    0"
      ]
     },
     "execution_count": 43,
     "metadata": {},
     "output_type": "execute_result"
    }
   ],
   "source": [
    "data = pd.read_csv(\"./output/data.csv\")\n",
    "data.head()"
   ]
  },
  {
   "cell_type": "code",
   "execution_count": 44,
   "id": "74f0e55a",
   "metadata": {},
   "outputs": [
    {
     "data": {
      "text/plain": [
       "(388, 9)"
      ]
     },
     "execution_count": 44,
     "metadata": {},
     "output_type": "execute_result"
    }
   ],
   "source": [
    "data.shape"
   ]
  },
  {
   "cell_type": "code",
   "execution_count": 45,
   "id": "839dffc6",
   "metadata": {},
   "outputs": [
    {
     "data": {
      "text/plain": [
       "distance        float64\n",
       "consume         float64\n",
       "speed           float64\n",
       "temp_inside      object\n",
       "temp_outside      int64\n",
       "gas_type         object\n",
       "AC                int64\n",
       "rain              int64\n",
       "sun               int64\n",
       "dtype: object"
      ]
     },
     "execution_count": 45,
     "metadata": {},
     "output_type": "execute_result"
    }
   ],
   "source": [
    "data.dtypes"
   ]
  },
  {
   "cell_type": "code",
   "execution_count": 46,
   "id": "9425a112",
   "metadata": {},
   "outputs": [
    {
     "data": {
      "text/plain": [
       "temp_inside     0.030928\n",
       "sun             0.000000\n",
       "rain            0.000000\n",
       "AC              0.000000\n",
       "gas_type        0.000000\n",
       "temp_outside    0.000000\n",
       "speed           0.000000\n",
       "consume         0.000000\n",
       "distance        0.000000\n",
       "dtype: float64"
      ]
     },
     "execution_count": 46,
     "metadata": {},
     "output_type": "execute_result"
    }
   ],
   "source": [
    "# In order to develop a prediction model, we drop null values\n",
    "perc_null_col = data.isnull().sum().apply(lambda x: x/data.shape[0]).sort_values(ascending=False)\n",
    "perc_null_col"
   ]
  },
  {
   "cell_type": "code",
   "execution_count": 47,
   "id": "e475e4b8",
   "metadata": {},
   "outputs": [],
   "source": [
    "data = data.dropna(axis=0, subset=['temp_inside'])"
   ]
  },
  {
   "cell_type": "code",
   "execution_count": 48,
   "id": "6e1e2654",
   "metadata": {},
   "outputs": [
    {
     "data": {
      "text/plain": [
       "sun             0.0\n",
       "rain            0.0\n",
       "AC              0.0\n",
       "gas_type        0.0\n",
       "temp_outside    0.0\n",
       "temp_inside     0.0\n",
       "speed           0.0\n",
       "consume         0.0\n",
       "distance        0.0\n",
       "dtype: float64"
      ]
     },
     "execution_count": 48,
     "metadata": {},
     "output_type": "execute_result"
    }
   ],
   "source": [
    "perc_null_col = data.isnull().sum().apply(lambda x: x/data.shape[0]).sort_values(ascending=False)\n",
    "perc_null_col"
   ]
  },
  {
   "cell_type": "code",
   "execution_count": 49,
   "id": "01fcd7b8",
   "metadata": {},
   "outputs": [
    {
     "data": {
      "text/plain": [
       "(376, 9)"
      ]
     },
     "execution_count": 49,
     "metadata": {},
     "output_type": "execute_result"
    }
   ],
   "source": [
    "data.shape"
   ]
  },
  {
   "cell_type": "code",
   "execution_count": 50,
   "id": "56362e98",
   "metadata": {},
   "outputs": [],
   "source": [
    "# We turn all number to float\n",
    "def comma_to_float(df,column_name):\n",
    "    index = df.columns.get_loc(column_name)\n",
    "    for i in range(len(df[column_name])):\n",
    "        value = df.iloc[i,index]\n",
    "        value_list = value.split(',')\n",
    "        if len(value_list) == 2:\n",
    "            new_value = float(''.join(value_list)) / 10\n",
    "            data.iloc[i,index] = new_value\n",
    "        else:\n",
    "            data.iloc[i,index] = float(value)"
   ]
  },
  {
   "cell_type": "code",
   "execution_count": 51,
   "id": "2d6320bc",
   "metadata": {},
   "outputs": [],
   "source": [
    "comma_to_float(data, 'temp_inside')\n",
    "data['temp_inside'] = data['temp_inside'].astype(float)"
   ]
  },
  {
   "cell_type": "code",
   "execution_count": 52,
   "id": "bdd76102",
   "metadata": {},
   "outputs": [
    {
     "data": {
      "text/plain": [
       "distance        float64\n",
       "consume         float64\n",
       "speed           float64\n",
       "temp_inside     float64\n",
       "temp_outside      int64\n",
       "gas_type         object\n",
       "AC                int64\n",
       "rain              int64\n",
       "sun               int64\n",
       "dtype: object"
      ]
     },
     "execution_count": 52,
     "metadata": {},
     "output_type": "execute_result"
    }
   ],
   "source": [
    "data.dtypes"
   ]
  },
  {
   "cell_type": "code",
   "execution_count": 53,
   "id": "81c9cb32",
   "metadata": {},
   "outputs": [],
   "source": [
    "# As it says in the example, I try to use a linear regression but at it was said it is not a good model, the score is not good.\n",
    "le = preprocessing.LabelEncoder()"
   ]
  },
  {
   "cell_type": "code",
   "execution_count": 56,
   "id": "c6f24f0b",
   "metadata": {},
   "outputs": [
    {
     "data": {
      "text/html": [
       "<div>\n",
       "<style scoped>\n",
       "    .dataframe tbody tr th:only-of-type {\n",
       "        vertical-align: middle;\n",
       "    }\n",
       "\n",
       "    .dataframe tbody tr th {\n",
       "        vertical-align: top;\n",
       "    }\n",
       "\n",
       "    .dataframe thead th {\n",
       "        text-align: right;\n",
       "    }\n",
       "</style>\n",
       "<table border=\"1\" class=\"dataframe\">\n",
       "  <thead>\n",
       "    <tr style=\"text-align: right;\">\n",
       "      <th></th>\n",
       "      <th>distance</th>\n",
       "      <th>consume</th>\n",
       "      <th>speed</th>\n",
       "      <th>temp_inside</th>\n",
       "      <th>temp_outside</th>\n",
       "      <th>gas_type</th>\n",
       "      <th>AC</th>\n",
       "      <th>rain</th>\n",
       "      <th>sun</th>\n",
       "    </tr>\n",
       "  </thead>\n",
       "  <tbody>\n",
       "    <tr>\n",
       "      <th>0</th>\n",
       "      <td>28.0</td>\n",
       "      <td>5.0</td>\n",
       "      <td>26.0</td>\n",
       "      <td>21.5</td>\n",
       "      <td>12</td>\n",
       "      <td>0</td>\n",
       "      <td>0</td>\n",
       "      <td>0</td>\n",
       "      <td>0</td>\n",
       "    </tr>\n",
       "    <tr>\n",
       "      <th>1</th>\n",
       "      <td>12.0</td>\n",
       "      <td>4.2</td>\n",
       "      <td>30.0</td>\n",
       "      <td>21.5</td>\n",
       "      <td>13</td>\n",
       "      <td>0</td>\n",
       "      <td>0</td>\n",
       "      <td>0</td>\n",
       "      <td>0</td>\n",
       "    </tr>\n",
       "    <tr>\n",
       "      <th>2</th>\n",
       "      <td>11.2</td>\n",
       "      <td>5.5</td>\n",
       "      <td>38.0</td>\n",
       "      <td>21.5</td>\n",
       "      <td>15</td>\n",
       "      <td>0</td>\n",
       "      <td>0</td>\n",
       "      <td>0</td>\n",
       "      <td>0</td>\n",
       "    </tr>\n",
       "    <tr>\n",
       "      <th>3</th>\n",
       "      <td>12.9</td>\n",
       "      <td>3.9</td>\n",
       "      <td>36.0</td>\n",
       "      <td>21.5</td>\n",
       "      <td>14</td>\n",
       "      <td>0</td>\n",
       "      <td>0</td>\n",
       "      <td>0</td>\n",
       "      <td>0</td>\n",
       "    </tr>\n",
       "    <tr>\n",
       "      <th>4</th>\n",
       "      <td>18.5</td>\n",
       "      <td>4.5</td>\n",
       "      <td>46.0</td>\n",
       "      <td>21.5</td>\n",
       "      <td>15</td>\n",
       "      <td>0</td>\n",
       "      <td>0</td>\n",
       "      <td>0</td>\n",
       "      <td>0</td>\n",
       "    </tr>\n",
       "  </tbody>\n",
       "</table>\n",
       "</div>"
      ],
      "text/plain": [
       "   distance  consume  speed  temp_inside  temp_outside  gas_type  AC  rain  \\\n",
       "0      28.0      5.0   26.0         21.5            12         0   0     0   \n",
       "1      12.0      4.2   30.0         21.5            13         0   0     0   \n",
       "2      11.2      5.5   38.0         21.5            15         0   0     0   \n",
       "3      12.9      3.9   36.0         21.5            14         0   0     0   \n",
       "4      18.5      4.5   46.0         21.5            15         0   0     0   \n",
       "\n",
       "   sun  \n",
       "0    0  \n",
       "1    0  \n",
       "2    0  \n",
       "3    0  \n",
       "4    0  "
      ]
     },
     "execution_count": 56,
     "metadata": {},
     "output_type": "execute_result"
    }
   ],
   "source": [
    "data[\"gas_type\"] = le.fit_transform(data[\"gas_type\"])\n",
    "data.head()"
   ]
  },
  {
   "cell_type": "code",
   "execution_count": 57,
   "id": "3fcc8e87",
   "metadata": {},
   "outputs": [],
   "source": [
    "lr = LinearRegression()\n"
   ]
  },
  {
   "cell_type": "code",
   "execution_count": 58,
   "id": "49ab8361",
   "metadata": {},
   "outputs": [],
   "source": [
    "# all predictors but the consume\n",
    "X=data.drop(\"consume\", axis=1)\n",
    "# target\n",
    "y=data[\"consume\"]"
   ]
  },
  {
   "cell_type": "code",
   "execution_count": 59,
   "id": "a51f33fd",
   "metadata": {},
   "outputs": [
    {
     "data": {
      "text/plain": [
       "LinearRegression()"
      ]
     },
     "execution_count": 59,
     "metadata": {},
     "output_type": "execute_result"
    }
   ],
   "source": [
    "lr.fit(X, y)"
   ]
  },
  {
   "cell_type": "code",
   "execution_count": 61,
   "id": "381e3cfa",
   "metadata": {},
   "outputs": [
    {
     "data": {
      "text/plain": [
       "array([5.18272568, 5.03744474, 4.80929959, 4.88883501, 4.67535209,\n",
       "       4.7756542 , 4.86563976, 5.12533224, 5.44848656, 5.19323132])"
      ]
     },
     "execution_count": 61,
     "metadata": {},
     "output_type": "execute_result"
    }
   ],
   "source": [
    "lr.predict(X)[:10]"
   ]
  },
  {
   "cell_type": "code",
   "execution_count": 62,
   "id": "5e8bd6a9",
   "metadata": {},
   "outputs": [
    {
     "data": {
      "text/plain": [
       "0.20630359179554114"
      ]
     },
     "execution_count": 62,
     "metadata": {},
     "output_type": "execute_result"
    }
   ],
   "source": [
    "lr.score(X, y)"
   ]
  },
  {
   "cell_type": "code",
   "execution_count": 65,
   "id": "5dba5873",
   "metadata": {},
   "outputs": [
    {
     "data": {
      "text/plain": [
       "<matplotlib.collections.PathCollection at 0x224a8aeea20>"
      ]
     },
     "execution_count": 65,
     "metadata": {},
     "output_type": "execute_result"
    },
    {
     "data": {
      "image/png": "[encoded data removed]",
      "text/plain": [
       "<Figure size 432x288 with 1 Axes>"
      ]
     },
     "metadata": {
      "needs_background": "light"
     },
     "output_type": "display_data"
    }
   ],
   "source": [
    "plt.scatter(lr.predict(X), y, s=3)\n"
   ]
  },
  {
   "cell_type": "code",
   "execution_count": 68,
   "id": "e126c809",
   "metadata": {},
   "outputs": [],
   "source": [
    "# I decides to try differents model and it looks like randon forest is the one that best works.\n",
    "X_train, X_test, y_train, y_test = train_test_split(X,y, test_size = 0.2)"
   ]
  },
  {
   "cell_type": "code",
   "execution_count": 69,
   "id": "b6b5079a",
   "metadata": {},
   "outputs": [],
   "source": [
    "\n",
    "from sklearn.linear_model import Ridge, Lasso\n",
    "from sklearn.linear_model import SGDRegressor\n",
    "from sklearn.neighbors import KNeighborsRegressor\n",
    "from sklearn.ensemble import GradientBoostingRegressor\n",
    "from sklearn import metrics\n",
    "from sklearn.linear_model import LinearRegression\n",
    "from sklearn.model_selection import cross_val_score\n",
    "from sklearn.ensemble import RandomForestRegressor\n",
    "\n",
    "from xgboost import XGBClassifier"
   ]
  },
  {
   "cell_type": "code",
   "execution_count": 70,
   "id": "39d8f27d",
   "metadata": {},
   "outputs": [],
   "source": [
    "# We train different model to see which give us less error\n",
    "models = { \"ridge\": Ridge(),\n",
    "          \"lasso\": Lasso(),\n",
    "          \"sgd\": SGDRegressor(),\n",
    "          \"knn\": KNeighborsRegressor(),\n",
    "          \"gradient\": GradientBoostingRegressor(),\n",
    "          \"rdm\": RandomForestRegressor(),\n",
    "}"
   ]
  },
  {
   "cell_type": "code",
   "execution_count": 71,
   "id": "7a4b7d76",
   "metadata": {},
   "outputs": [
    {
     "name": "stdout",
     "output_type": "stream",
     "text": [
      "Entrenando modelo ---> ridge\n",
      "He acabado ;)\n",
      "Entrenando modelo ---> lasso\n",
      "He acabado ;)\n",
      "Entrenando modelo ---> sgd\n",
      "He acabado ;)\n",
      "Entrenando modelo ---> knn\n",
      "He acabado ;)\n",
      "Entrenando modelo ---> gradient\n",
      "He acabado ;)\n",
      "Entrenando modelo ---> rdm\n",
      "He acabado ;)\n"
     ]
    }
   ],
   "source": [
    "for name, model in models.items():\n",
    "        print(f\"Entrenando modelo ---> {name}\")\n",
    "        model.fit(X_train,y_train)\n",
    "        print(f\"He acabado ;)\")"
   ]
  },
  {
   "cell_type": "code",
   "execution_count": 72,
   "id": "42f87019",
   "metadata": {},
   "outputs": [
    {
     "name": "stdout",
     "output_type": "stream",
     "text": [
      "--------ridge--------\n",
      "MAE:  0.6794434391580145\n",
      "MSE:  0.8733864401879697\n",
      "RMSE:  0.9345514647080544\n",
      "R2:  0.13447164618221796\n",
      "\n",
      "\n",
      "--------lasso--------\n",
      "MAE:  0.6712452854456664\n",
      "MSE:  0.8634417206113212\n",
      "RMSE:  0.9292156480663254\n",
      "R2:  0.14432689051427294\n",
      "\n",
      "\n",
      "--------sgd--------\n",
      "MAE:  349853510144.6082\n",
      "MSE:  7.952336704350667e+23\n",
      "RMSE:  891758751252.303\n",
      "R2:  -7.88078744987157e+23\n",
      "\n",
      "\n",
      "--------knn--------\n",
      "MAE:  0.47052631578947374\n",
      "MSE:  0.41278947368421054\n",
      "RMSE:  0.6424869443686856\n",
      "R2:  0.5909245012387534\n",
      "\n",
      "\n",
      "--------gradient--------\n",
      "MAE:  0.4848388077101867\n",
      "MSE:  0.5049826132303605\n",
      "RMSE:  0.7106212867838682\n",
      "R2:  0.4995608474963176\n",
      "\n",
      "\n",
      "--------rdm--------\n",
      "MAE:  0.432825657894737\n",
      "MSE:  0.36777813879751475\n",
      "RMSE:  0.6064471442735259\n",
      "R2:  0.635530857365874\n",
      "\n",
      "\n"
     ]
    }
   ],
   "source": [
    "for name, model in models.items():\n",
    "    y_pred = model.predict(X_test)\n",
    "    print(f\"--------{name}--------\")\n",
    "    print(\"MAE: \", metrics.mean_absolute_error(y_test, y_pred))\n",
    "    print(\"MSE: \", metrics.mean_squared_error(y_test,y_pred))\n",
    "    print(\"RMSE: \", np.sqrt(metrics.mean_squared_error(y_test,y_pred)))\n",
    "    print(\"R2: \", metrics.r2_score(y_test,y_pred))\n",
    "\n",
    "    print(\"\\n\")"
   ]
  }
 ],
 "metadata": {
  "kernelspec": {
   "display_name": "Python 3",
   "language": "python",
   "name": "python3"
  },
  "language_info": {
   "codemirror_mode": {
    "name": "ipython",
    "version": 3
   },
   "file_extension": ".py",
   "mimetype": "text/x-python",
   "name": "python",
   "nbconvert_exporter": "python",
   "pygments_lexer": "ipython3",
   "version": "3.6.13"
  }
 },
 "nbformat": 4,
 "nbformat_minor": 5
}
